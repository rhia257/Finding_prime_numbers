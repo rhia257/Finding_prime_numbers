{
 "cells": [
  {
   "cell_type": "code",
   "execution_count": 19,
   "id": "23ed298c-1bf6-4ae6-a4fc-d7f21ebe1f8a",
   "metadata": {},
   "outputs": [],
   "source": [
    "#prime numbers between 2 and 1 million\n",
    "n = 1000000\n",
    "number_range = set(range(2, n+1))\n",
    "primes_list = []"
   ]
  },
  {
   "cell_type": "code",
   "execution_count": 20,
   "id": "a95f553b-56ad-4fcd-b883-0b2499a385ac",
   "metadata": {},
   "outputs": [
    {
     "name": "stdout",
     "output_type": "stream",
     "text": [
      "There are 78498 prime numbers between 2 and 1000000, the largest of which is 999983.\n"
     ]
    }
   ],
   "source": [
    "while number_range:\n",
    "    prime = number_range.pop()\n",
    "    primes_list.append(prime)\n",
    "    multiples = set(range(prime * 2, n+1, prime))\n",
    "    number_range.difference_update(multiples)\n",
    "\n",
    "#print(primes_list)\n",
    "prime_count = len(primes_list)\n",
    "largest_prime = max(primes_list)\n",
    "print(f\"There are {prime_count} prime numbers between 2 and {n}, the largest of which is {largest_prime}.\")"
   ]
  }
 ],
 "metadata": {
  "kernelspec": {
   "display_name": "Python 3 (ipykernel)",
   "language": "python",
   "name": "python3"
  },
  "language_info": {
   "codemirror_mode": {
    "name": "ipython",
    "version": 3
   },
   "file_extension": ".py",
   "mimetype": "text/x-python",
   "name": "python",
   "nbconvert_exporter": "python",
   "pygments_lexer": "ipython3",
   "version": "3.13.5"
  }
 },
 "nbformat": 4,
 "nbformat_minor": 5
}
